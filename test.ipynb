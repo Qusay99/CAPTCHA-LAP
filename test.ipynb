{
 "cells": [
  {
   "cell_type": "code",
   "execution_count": 1,
   "metadata": {},
   "outputs": [],
   "source": [
    "# Import the following modules\n",
    "from captcha.image import ImageCaptcha\n",
    " \n",
    "# Create an image instance of the given size\n",
    "image = ImageCaptcha(width = 280, height = 90)\n",
    " \n",
    "# Image captcha text\n",
    "captcha_text = 'GeeksforGeeks' \n",
    " \n",
    "# generate the image of the given text\n",
    "data = image.generate(captcha_text) \n",
    " \n",
    "# write the image on the given file and save it\n",
    "image.write(captcha_text, 'CAPTCHA.png')"
   ]
  }
 ],
 "metadata": {
  "kernelspec": {
   "display_name": "Python 3.9.5 64-bit",
   "language": "python",
   "name": "python3"
  },
  "language_info": {
   "codemirror_mode": {
    "name": "ipython",
    "version": 3
   },
   "file_extension": ".py",
   "mimetype": "text/x-python",
   "name": "python",
   "nbconvert_exporter": "python",
   "pygments_lexer": "ipython3",
   "version": "3.9.5"
  },
  "orig_nbformat": 4,
  "vscode": {
   "interpreter": {
    "hash": "11938c6bc6919ae2720b4d5011047913343b08a43b18698fd82dedb0d4417594"
   }
  }
 },
 "nbformat": 4,
 "nbformat_minor": 2
}
